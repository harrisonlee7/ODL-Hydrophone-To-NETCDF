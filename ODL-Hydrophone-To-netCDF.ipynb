{
 "cells": [
  {
   "cell_type": "code",
   "execution_count": 2,
   "metadata": {},
   "outputs": [],
   "source": [
    "import os\n",
    "from datetime import datetime, timedelta\n",
    "import xarray as xr\n",
    "import wave\n",
    "from google.colab import files"
   ]
  },
  {
   "cell_type": "code",
   "execution_count": 3,
   "metadata": {},
   "outputs": [],
   "source": [
    "#change path to cwd\n",
    "\n",
    "hydrophoneName = 'ODL Hydrophone'\n",
    "\n",
    "basePath = '/content/drive/MyDrive/DAS Saratoga Passage/' + hydrophoneName\n",
    "os.chdir(basePath)\n",
    "\n",
    "osType = '/'"
   ]
  },
  {
   "cell_type": "code",
   "execution_count": null,
   "metadata": {},
   "outputs": [],
   "source": [
    "#obtain and export each wav file as a netCDF file\n",
    "#start time in PST 2022-10-19 7:13:00\n",
    "#start time in UTC 2022-10-19 14:13:00\n",
    "startTime = datetime(2022,10,19,14,13,0)\n",
    "currentTime = startTime\n",
    "\n",
    "for file in os.listdir(basePath):\n",
    "\n",
    "    path = os.path.join(basePath, file)\n",
    "\n",
    "    if os.path.isdir(path):\n",
    "      continue\n",
    "\n",
    "    #get time\n",
    "    time = currentTime\n",
    "\n",
    "    #convert to UTC\n",
    "    #utcTime = time.astimezone(pytz.UTC)\n",
    "\n",
    "    #get wav file metadata within wavParam variable\n",
    "    wavObject = wave.open(path, 'rb')\n",
    "    wavParams = wavObject.getparams()\n",
    "    wavObject.close\n",
    "\n",
    "    #setup Xarray\n",
    "    da = xr.DataArray(data=time)\n",
    "\n",
    "    #add name of hydrophone: ODL Hydrophone\n",
    "    metaData = {'hydrophone name': hydrophoneName,\n",
    "                'nchannels': wavParams[0],\n",
    "                'sampwidth': wavParams[1],\n",
    "                'framerate': wavParams[2],\n",
    "                'nframes': wavParams[3],\n",
    "                'comptype': wavParams[4],\n",
    "                'compname': wavParams[5]}\n",
    "\n",
    "    da.attrs = metaData\n",
    "\n",
    "    print(da)\n",
    "\n",
    "    #add 5 minutes for each file\n",
    "    currentTime = time + timedelta(minutes=5)\n",
    "\n",
    "    #set file name\n",
    "    fileName = file.replace(\".wav\",\".nc\")\n",
    "\n",
    "    os.chdir(basePath + '/netCDF Files')\n",
    "    da.to_netcdf(fileName)\n"
   ]
  }
 ],
 "metadata": {
  "kernelspec": {
   "display_name": "Python 3.9.7 ('base')",
   "language": "python",
   "name": "python3"
  },
  "language_info": {
   "codemirror_mode": {
    "name": "ipython",
    "version": 3
   },
   "file_extension": ".py",
   "mimetype": "text/x-python",
   "name": "python",
   "nbconvert_exporter": "python",
   "pygments_lexer": "ipython3",
   "version": "3.9.7"
  },
  "orig_nbformat": 4,
  "vscode": {
   "interpreter": {
    "hash": "de2cd0472f61adf887bfae5effa84b94e0ce5afbff6dfbcccb45b53ddf092f68"
   }
  }
 },
 "nbformat": 4,
 "nbformat_minor": 2
}
