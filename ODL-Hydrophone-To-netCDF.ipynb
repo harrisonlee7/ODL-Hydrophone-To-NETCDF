{
 "cells": [
  {
   "cell_type": "code",
   "execution_count": null,
   "metadata": {},
   "outputs": [],
   "source": [
    "import os\n",
    "from datetime import datetime, timedelta\n",
    "import xarray as xr\n",
    "import wave\n",
    "import pytz"
   ]
  },
  {
   "cell_type": "code",
   "execution_count": null,
   "metadata": {},
   "outputs": [],
   "source": [
    "#user inputs\n",
    "#folder name of the location folder(i.e. axial_base, oregon_offshore, oregon_slope)\n",
    "folderName = \"Sample Audio Files\"\n",
    "\n",
    "#Input the following based on Operating System:\n",
    "#For windows, input \"\\\\\"\n",
    "#For Mac, Unix, Ubuntu, input \"/\"\n",
    "#e.x for windows: osType = \"\\\\\"\n",
    "#by default, it is set to \\\\ for windows\n",
    "\n",
    "osType = \"\\\\\"\n",
    "\n",
    "#set directory\n",
    "directory = os.getcwd()\n",
    "path = directory + osType + folderName"
   ]
  },
  {
   "cell_type": "code",
   "execution_count": null,
   "metadata": {},
   "outputs": [],
   "source": [
    "#obtain and export each wav file as a netCDF file\n",
    "startTime = datetime(2022,10,19,7,18,0)\n",
    "currentTime = startTime\n",
    "\n",
    "for file in os.listdir(path):\n",
    "    #get time\n",
    "    time = currentTime\n",
    "\n",
    "    #convert to UTC\n",
    "    utcTime = time.astimezone(pytz.UTC)\n",
    "\n",
    "    #get wav file metadata within wavParam variable\n",
    "    wavObject = wave.open(path + osType + file, 'rb')\n",
    "    wavParams = wavObject.getparams()\n",
    "    wavObject.close\n",
    "\n",
    "    #setup Xarray\n",
    "    da = xr.DataArray(data=time)\n",
    "\n",
    "    metaData = {'nchannels': wavParams[0],\n",
    "                'sampwidth': wavParams[1],\n",
    "                'framerate': wavParams[2],\n",
    "                'nframes': wavParams[3],\n",
    "                'comptype': wavParams[4],\n",
    "                'compname': wavParams[5]}\n",
    "\n",
    "    da.attrs = metaData\n",
    "\n",
    "    print(da)\n",
    "\n",
    "    #add 5 minutes for each file\n",
    "    currentTime = time + timedelta(minutes=5)\n",
    "\n",
    "    #set file name\n",
    "    fileName = file.replace(\".wav\",\".nc\")\n",
    "\n",
    "    da.to_netcdf(fileName)\n"
   ]
  },
  {
   "cell_type": "code",
   "execution_count": null,
   "metadata": {},
   "outputs": [],
   "source": [
    "#Verification code to check if it works\n",
    "#will remove later\n",
    "ds = xr.open_dataset(directory + osType + '221019_0052.nc')\n",
    "ds\n",
    "ds.close()"
   ]
  }
 ],
 "metadata": {
  "kernelspec": {
   "display_name": "Python 3.9.7 ('base')",
   "language": "python",
   "name": "python3"
  },
  "language_info": {
   "codemirror_mode": {
    "name": "ipython",
    "version": 3
   },
   "file_extension": ".py",
   "mimetype": "text/x-python",
   "name": "python",
   "nbconvert_exporter": "python",
   "pygments_lexer": "ipython3",
   "version": "3.9.7"
  },
  "orig_nbformat": 4,
  "vscode": {
   "interpreter": {
    "hash": "de2cd0472f61adf887bfae5effa84b94e0ce5afbff6dfbcccb45b53ddf092f68"
   }
  }
 },
 "nbformat": 4,
 "nbformat_minor": 2
}
